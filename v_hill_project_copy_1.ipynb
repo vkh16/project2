{
 "cells": [
  {
   "cell_type": "markdown",
   "metadata": {},
   "source": [
    "# RCC data analysis"
   ]
  },
  {
   "cell_type": "markdown",
   "metadata": {},
   "source": [
    "## Introduction and aims \n",
    "\n",
    "This small project will use python to examine some features of mutations in renal cell carcinoma. There are 3 main histologies for renal cell carcinoma: \n",
    "\n",
    "- clear cell renal cell carcinoma \n",
    "- chromophobe renal cell carcinoma\n",
    "- papillary renal cell carcinoma \n",
    "\n",
    "The data being analysed will have information about mutation rate, patient gender, patient survival time, the stage of the cancer, the overall number of somatic mutations within the tumor and the mutation status of three driver genes (BAP1, PTEN and TP53) for each of the 3 main renal cancer histologies. \n",
    "\n",
    "This project will look at these different attributes and perform analyses to determine if there are any significant differences between histology and \n",
    " - a) overall mutation rate \n",
    " - b) mutations within specific driver genes \n",
    " - c) survival of patients  \n",
    "\n",
    "The data is freely available from the TCGA datasets. "
   ]
  },
  {
   "cell_type": "markdown",
   "metadata": {},
   "source": [
    "## Import data to be analysed "
   ]
  },
  {
   "cell_type": "code",
   "execution_count": 4,
   "metadata": {
    "collapsed": true
   },
   "outputs": [],
   "source": [
    "# import the packages required for the analysis \n",
    "import numpy as np \n",
    "import pandas as pd\n",
    "import matplotlib.pyplot as plt\n",
    "import seaborn as sns"
   ]
  },
  {
   "cell_type": "code",
   "execution_count": 5,
   "metadata": {
    "collapsed": true
   },
   "outputs": [],
   "source": [
    "# import the .csv dataset using the pandas read.csv() function \n",
    "# call the dataset \"rcc_raw_data\"\n",
    "rcc_raw_data = pd.read_csv(\"/Users/hillvk/desktop/python_course_final_project/rcc_data_python.csv\", \n",
    "                            delimiter = \",\", \n",
    "                            index_col=False)     # tell pandas to not use the first row as row names"
   ]
  },
  {
   "cell_type": "code",
   "execution_count": 6,
   "metadata": {},
   "outputs": [
    {
     "data": {
      "text/html": [
       "<div>\n",
       "<style>\n",
       "    .dataframe thead tr:only-child th {\n",
       "        text-align: right;\n",
       "    }\n",
       "\n",
       "    .dataframe thead th {\n",
       "        text-align: left;\n",
       "    }\n",
       "\n",
       "    .dataframe tbody tr th {\n",
       "        vertical-align: top;\n",
       "    }\n",
       "</style>\n",
       "<table border=\"1\" class=\"dataframe\">\n",
       "  <thead>\n",
       "    <tr style=\"text-align: right;\">\n",
       "      <th></th>\n",
       "      <th>sample</th>\n",
       "      <th>histology</th>\n",
       "      <th>gender</th>\n",
       "      <th>status_1_alive</th>\n",
       "      <th>survival_days</th>\n",
       "      <th>pathologic_stage</th>\n",
       "      <th>mutation_count</th>\n",
       "      <th>BAP1</th>\n",
       "      <th>PTEN</th>\n",
       "      <th>TP53</th>\n",
       "    </tr>\n",
       "  </thead>\n",
       "  <tbody>\n",
       "    <tr>\n",
       "      <th>0</th>\n",
       "      <td>TCGA-5P-A9K3</td>\n",
       "      <td>KIRP</td>\n",
       "      <td>MALE</td>\n",
       "      <td>1</td>\n",
       "      <td>471</td>\n",
       "      <td>Unknown</td>\n",
       "      <td>90</td>\n",
       "      <td>0</td>\n",
       "      <td>0</td>\n",
       "      <td>1</td>\n",
       "    </tr>\n",
       "    <tr>\n",
       "      <th>1</th>\n",
       "      <td>TCGA-5P-A9JY</td>\n",
       "      <td>KIRP</td>\n",
       "      <td>MALE</td>\n",
       "      <td>1</td>\n",
       "      <td>1508</td>\n",
       "      <td>Unknown</td>\n",
       "      <td>160</td>\n",
       "      <td>0</td>\n",
       "      <td>1</td>\n",
       "      <td>0</td>\n",
       "    </tr>\n",
       "    <tr>\n",
       "      <th>2</th>\n",
       "      <td>TCGA-5P-A9K0</td>\n",
       "      <td>KIRP</td>\n",
       "      <td>MALE</td>\n",
       "      <td>0</td>\n",
       "      <td>677</td>\n",
       "      <td>Unknown</td>\n",
       "      <td>131</td>\n",
       "      <td>0</td>\n",
       "      <td>0</td>\n",
       "      <td>0</td>\n",
       "    </tr>\n",
       "    <tr>\n",
       "      <th>3</th>\n",
       "      <td>TCGA-5P-A9KA</td>\n",
       "      <td>KIRP</td>\n",
       "      <td>MALE</td>\n",
       "      <td>0</td>\n",
       "      <td>395</td>\n",
       "      <td>Unknown</td>\n",
       "      <td>129</td>\n",
       "      <td>0</td>\n",
       "      <td>0</td>\n",
       "      <td>0</td>\n",
       "    </tr>\n",
       "    <tr>\n",
       "      <th>4</th>\n",
       "      <td>TCGA-5P-A9KE</td>\n",
       "      <td>KIRP</td>\n",
       "      <td>MALE</td>\n",
       "      <td>0</td>\n",
       "      <td>824</td>\n",
       "      <td>Unknown</td>\n",
       "      <td>119</td>\n",
       "      <td>0</td>\n",
       "      <td>0</td>\n",
       "      <td>0</td>\n",
       "    </tr>\n",
       "    <tr>\n",
       "      <th>5</th>\n",
       "      <td>TCGA-B9-4116</td>\n",
       "      <td>KIRP</td>\n",
       "      <td>FEMALE</td>\n",
       "      <td>0</td>\n",
       "      <td>627</td>\n",
       "      <td>Unknown</td>\n",
       "      <td>118</td>\n",
       "      <td>0</td>\n",
       "      <td>0</td>\n",
       "      <td>0</td>\n",
       "    </tr>\n",
       "    <tr>\n",
       "      <th>6</th>\n",
       "      <td>TCGA-5P-A9JW</td>\n",
       "      <td>KIRP</td>\n",
       "      <td>MALE</td>\n",
       "      <td>0</td>\n",
       "      <td>3241</td>\n",
       "      <td>Unknown</td>\n",
       "      <td>118</td>\n",
       "      <td>0</td>\n",
       "      <td>0</td>\n",
       "      <td>0</td>\n",
       "    </tr>\n",
       "    <tr>\n",
       "      <th>7</th>\n",
       "      <td>TCGA-5P-A9KC</td>\n",
       "      <td>KIRP</td>\n",
       "      <td>FEMALE</td>\n",
       "      <td>0</td>\n",
       "      <td>377</td>\n",
       "      <td>Unknown</td>\n",
       "      <td>115</td>\n",
       "      <td>0</td>\n",
       "      <td>0</td>\n",
       "      <td>0</td>\n",
       "    </tr>\n",
       "    <tr>\n",
       "      <th>8</th>\n",
       "      <td>TCGA-B9-4114</td>\n",
       "      <td>KIRP</td>\n",
       "      <td>MALE</td>\n",
       "      <td>0</td>\n",
       "      <td>857</td>\n",
       "      <td>Unknown</td>\n",
       "      <td>114</td>\n",
       "      <td>0</td>\n",
       "      <td>0</td>\n",
       "      <td>0</td>\n",
       "    </tr>\n",
       "    <tr>\n",
       "      <th>9</th>\n",
       "      <td>TCGA-B9-5156</td>\n",
       "      <td>KIRP</td>\n",
       "      <td>MALE</td>\n",
       "      <td>0</td>\n",
       "      <td>1338</td>\n",
       "      <td>Unknown</td>\n",
       "      <td>112</td>\n",
       "      <td>0</td>\n",
       "      <td>0</td>\n",
       "      <td>0</td>\n",
       "    </tr>\n",
       "  </tbody>\n",
       "</table>\n",
       "</div>"
      ],
      "text/plain": [
       "         sample histology  gender  status_1_alive survival_days  \\\n",
       "0  TCGA-5P-A9K3      KIRP    MALE               1           471   \n",
       "1  TCGA-5P-A9JY      KIRP    MALE               1          1508   \n",
       "2  TCGA-5P-A9K0      KIRP    MALE               0           677   \n",
       "3  TCGA-5P-A9KA      KIRP    MALE               0           395   \n",
       "4  TCGA-5P-A9KE      KIRP    MALE               0           824   \n",
       "5  TCGA-B9-4116      KIRP  FEMALE               0           627   \n",
       "6  TCGA-5P-A9JW      KIRP    MALE               0          3241   \n",
       "7  TCGA-5P-A9KC      KIRP  FEMALE               0           377   \n",
       "8  TCGA-B9-4114      KIRP    MALE               0           857   \n",
       "9  TCGA-B9-5156      KIRP    MALE               0          1338   \n",
       "\n",
       "  pathologic_stage  mutation_count  BAP1  PTEN  TP53  \n",
       "0          Unknown              90     0     0     1  \n",
       "1          Unknown             160     0     1     0  \n",
       "2          Unknown             131     0     0     0  \n",
       "3          Unknown             129     0     0     0  \n",
       "4          Unknown             119     0     0     0  \n",
       "5          Unknown             118     0     0     0  \n",
       "6          Unknown             118     0     0     0  \n",
       "7          Unknown             115     0     0     0  \n",
       "8          Unknown             114     0     0     0  \n",
       "9          Unknown             112     0     0     0  "
      ]
     },
     "execution_count": 6,
     "metadata": {},
     "output_type": "execute_result"
    }
   ],
   "source": [
    "# take a look at the first 10 rows to make sure the data has been imported correctly \n",
    "rcc_raw_data.head(n=10)"
   ]
  },
  {
   "cell_type": "code",
   "execution_count": 7,
   "metadata": {},
   "outputs": [
    {
     "name": "stdout",
     "output_type": "stream",
     "text": [
      "<class 'pandas.core.frame.DataFrame'>\n",
      "RangeIndex: 803 entries, 0 to 802\n",
      "Data columns (total 10 columns):\n",
      "sample              803 non-null object\n",
      "histology           803 non-null object\n",
      "gender              803 non-null object\n",
      "status_1_alive      803 non-null int64\n",
      "survival_days       803 non-null object\n",
      "pathologic_stage    803 non-null object\n",
      "mutation_count      803 non-null int64\n",
      "BAP1                803 non-null int64\n",
      "PTEN                803 non-null int64\n",
      "TP53                803 non-null int64\n",
      "dtypes: int64(5), object(5)\n",
      "memory usage: 62.8+ KB\n"
     ]
    }
   ],
   "source": [
    "rcc_raw_data.info()"
   ]
  },
  {
   "cell_type": "markdown",
   "metadata": {},
   "source": [
    "The data looks good, the headings are correct, there are no missing values, move on to do some simple inspections of the data to see what is available. "
   ]
  },
  {
   "cell_type": "markdown",
   "metadata": {},
   "source": [
    "## Calculate some of the data attributes "
   ]
  },
  {
   "cell_type": "markdown",
   "metadata": {},
   "source": [
    "### How many samples of each histology are within the dataset? "
   ]
  },
  {
   "cell_type": "code",
   "execution_count": 11,
   "metadata": {},
   "outputs": [
    {
     "name": "stdout",
     "output_type": "stream",
     "text": [
      "  histology  sample\n",
      "0      KICH      65\n",
      "1      KIRC     472\n",
      "2      KIRP     266\n"
     ]
    }
   ],
   "source": [
    "# count how many of each histology are in the dataset \n",
    "# output as a dataframe \n",
    "hist_count = rcc_raw_data.groupby('histology', as_index=False)['sample'].count()\n",
    "\n",
    "# print the new varaible, 'hist_count' \n",
    "print(hist_count)"
   ]
  },
  {
   "cell_type": "markdown",
   "metadata": {},
   "source": [
    "- the dataset consists mostly of KIRC samples (clear cell histology) and comparatively few KICH samples (chromophobe histology)\n",
    "- the sample counts are likley big enough to perform meaningful statistical tests "
   ]
  },
  {
   "cell_type": "markdown",
   "metadata": {},
   "source": [
    "### What is the mean mutation count of tumors within each histology? "
   ]
  },
  {
   "cell_type": "code",
   "execution_count": 12,
   "metadata": {
    "scrolled": true
   },
   "outputs": [
    {
     "name": "stdout",
     "output_type": "stream",
     "text": [
      "  histology  mutation_count\n",
      "0      KICH       50.276923\n",
      "1      KIRC       80.300847\n",
      "2      KIRP      118.063910\n"
     ]
    }
   ],
   "source": [
    "mut_mean = rcc_raw_data.groupby('histology', as_index=False)['mutation_count'].mean()\n",
    "print(mut_mean)"
   ]
  },
  {
   "cell_type": "code",
   "execution_count": 13,
   "metadata": {
    "scrolled": false
   },
   "outputs": [
    {
     "data": {
      "image/png": "[encoded data removed]",
      "text/plain": [
       "<matplotlib.figure.Figure at 0x11abadb00>"
      ]
     },
     "metadata": {},
     "output_type": "display_data"
    }
   ],
   "source": [
    "ax = sns.barplot(x=\"histology\", y=\"mutation_count\", hue=\"histology\", data=mut_mean)\n",
    "ax.set(xlabel='histology', ylabel = 'mean mutation count per sample')\n",
    "plt.show()"
   ]
  },
  {
   "cell_type": "markdown",
   "metadata": {},
   "source": [
    "On average, there are mutations in KIRP samples than KIRC or KICH samples. "
   ]
  },
  {
   "cell_type": "markdown",
   "metadata": {},
   "source": [
    "### What is the median mutation count of each histology? "
   ]
  },
  {
   "cell_type": "code",
   "execution_count": 14,
   "metadata": {},
   "outputs": [
    {
     "name": "stdout",
     "output_type": "stream",
     "text": [
      "  histology  mutation_count\n",
      "0      KICH            31.0\n",
      "1      KIRC            76.0\n",
      "2      KIRP           100.5\n"
     ]
    }
   ],
   "source": [
    "mut_median = rcc_raw_data.groupby('histology', as_index=False)['mutation_count'].median()\n",
    "print(mut_median)"
   ]
  },
  {
   "cell_type": "code",
   "execution_count": 15,
   "metadata": {},
   "outputs": [
    {
     "data": {
      "image/png": "[encoded data removed]",
      "text/plain": [
       "<matplotlib.figure.Figure at 0x11af3cf98>"
      ]
     },
     "metadata": {},
     "output_type": "display_data"
    }
   ],
   "source": [
    "ax = sns.barplot(x=\"histology\", y=\"mutation_count\", hue=\"histology\", data=mut_median)\n",
    "ax.set(xlabel = 'histology', ylabel = 'median mutation count per sample')\n",
    "plt.show()"
   ]
  },
  {
   "cell_type": "markdown",
   "metadata": {},
   "source": [
    "### What is the gender distribution in each histology? "
   ]
  },
  {
   "cell_type": "code",
   "execution_count": 25,
   "metadata": {},
   "outputs": [
    {
     "name": "stdout",
     "output_type": "stream",
     "text": [
      "  histology  gender  sample\n",
      "0      KICH  FEMALE      27\n",
      "1      KICH    MALE      38\n",
      "2      KIRC  FEMALE     173\n",
      "3      KIRC    MALE     299\n",
      "4      KIRP  FEMALE      67\n",
      "5      KIRP    MALE     199\n"
     ]
    }
   ],
   "source": [
    "# determine how many male and female samples are present within the dataset for each histology\n",
    "# groupby two features, histology and gender and use the count function on the sample column \n",
    "# return the data as a dataframe\n",
    "gender_hist_dist = rcc_raw_data.groupby(['histology', 'gender'], as_index=False)['sample'].count()\n",
    "print(gender_hist_dist)"
   ]
  },
  {
   "cell_type": "code",
   "execution_count": 24,
   "metadata": {},
   "outputs": [
    {
     "data": {
      "image/png": "[encoded data removed]",
      "text/plain": [
       "<matplotlib.figure.Figure at 0x11562fc18>"
      ]
     },
     "metadata": {},
     "output_type": "display_data"
    }
   ],
   "source": [
    "# draw a bar plot of the above results to easily visualize the gender distributions per histology \n",
    "ax = sns.barplot(x=\"histology\", y=\"sample\", hue=\"gender\", data=gender_hist_dist)\n",
    "ax.set(xlabel = 'histology', ylabel = 'number of samples')\n",
    "plt.show()"
   ]
  },
  {
   "cell_type": "markdown",
   "metadata": {},
   "source": [
    "### What is the mutation rate of each of the 3 driver genes in each histology? "
   ]
  },
  {
   "cell_type": "code",
   "execution_count": 52,
   "metadata": {
    "collapsed": true
   },
   "outputs": [],
   "source": [
    "# pull out the information for mutated samples from the dataframe \n",
    "# do this separately for each gene \n",
    "BAP1_mutated = rcc_raw_data.loc[rcc_raw_data['BAP1']==1]   # pull out all entries where BAP1 is mutated\n",
    "PTEN_mutated = rcc_raw_data.loc[rcc_raw_data['PTEN']==1]   # pull out all entries where PTEN is mutated\n",
    "TP53_mutated = rcc_raw_data.loc[rcc_raw_data['TP53']==1]   # pull out all entries where TP53 is mutated "
   ]
  },
  {
   "cell_type": "code",
   "execution_count": 61,
   "metadata": {},
   "outputs": [
    {
     "name": "stdout",
     "output_type": "stream",
     "text": [
      "  histology  sample\n",
      "0      KIRC      51\n",
      "1      KIRP      15\n"
     ]
    }
   ],
   "source": [
    "# break down how many samples are mutated in BAP1 for each histology \n",
    "BAP1_mut_grouped = BAP1_mutated.groupby(['histology'], as_index=False)['sample'].count()\n",
    "print(BAP1_mut_grouped)"
   ]
  },
  {
   "cell_type": "code",
   "execution_count": 60,
   "metadata": {},
   "outputs": [
    {
     "name": "stdout",
     "output_type": "stream",
     "text": [
      "  histology  sample\n",
      "0      KICH       6\n",
      "1      KIRC      21\n",
      "2      KIRP       9\n"
     ]
    }
   ],
   "source": [
    "# break down how many samples are mutated in PTEN for each histology \n",
    "PTEN_mut_grouped = PTEN_mutated.groupby(['histology'], as_index=False)['sample'].count()\n",
    "print(PTEN_mut_grouped)"
   ]
  },
  {
   "cell_type": "code",
   "execution_count": 59,
   "metadata": {},
   "outputs": [
    {
     "name": "stdout",
     "output_type": "stream",
     "text": [
      "  histology  sample\n",
      "0      KICH      21\n",
      "1      KIRC      14\n",
      "2      KIRP       4\n"
     ]
    }
   ],
   "source": [
    "# break down how many samples are mutated in TP53 for each histology\n",
    "TP53_mut_grouped = TP53_mutated.groupby(['histology'], as_index=False)['sample'].count()\n",
    "print(TP53_mut_grouped)"
   ]
  },
  {
   "cell_type": "markdown",
   "metadata": {},
   "source": [
    "### What is the gender distribution in mutated samples? "
   ]
  },
  {
   "cell_type": "code",
   "execution_count": 33,
   "metadata": {},
   "outputs": [
    {
     "name": "stdout",
     "output_type": "stream",
     "text": [
      "  histology  gender  BAP1  sample\n",
      "0      KICH  FEMALE     0      27\n",
      "1      KICH    MALE     0      38\n",
      "2      KIRC  FEMALE     0     145\n",
      "3      KIRC  FEMALE     1      28\n",
      "4      KIRC    MALE     0     276\n",
      "5      KIRC    MALE     1      23\n",
      "6      KIRP  FEMALE     0      64\n",
      "7      KIRP  FEMALE     1       3\n",
      "8      KIRP    MALE     0     187\n",
      "9      KIRP    MALE     1      12\n"
     ]
    }
   ],
   "source": [
    "# groupby histlogy, gender and BAP1 mutation status \n",
    "# count how many samples are within each group & create a dataframe containing this information \n",
    "BAP1 = rcc_raw_data.groupby(['histology', 'gender', 'BAP1'], as_index=False)['sample'].count()\n",
    "print(BAP1)"
   ]
  },
  {
   "cell_type": "code",
   "execution_count": 49,
   "metadata": {
    "collapsed": true
   },
   "outputs": [],
   "source": [
    "BAP1_mutated = rcc_raw_data.loc[rcc_raw_data['BAP1']==1]"
   ]
  },
  {
   "cell_type": "code",
   "execution_count": 50,
   "metadata": {},
   "outputs": [
    {
     "name": "stdout",
     "output_type": "stream",
     "text": [
      "  histology  gender  sample\n",
      "0      KIRC  FEMALE      28\n",
      "1      KIRC    MALE      23\n",
      "2      KIRP  FEMALE       3\n",
      "3      KIRP    MALE      12\n"
     ]
    }
   ],
   "source": [
    "BAP1_mut_grouped = BAP1_mutated.groupby(['histology', 'gender'], as_index=False)['sample'].count()\n",
    "print(BAP1_mut_grouped)"
   ]
  },
  {
   "cell_type": "code",
   "execution_count": null,
   "metadata": {
    "collapsed": true
   },
   "outputs": [],
   "source": []
  }
 ],
 "metadata": {
  "kernelspec": {
   "display_name": "Python 3",
   "language": "python",
   "name": "python3"
  },
  "language_info": {
   "codemirror_mode": {
    "name": "ipython",
    "version": 3
   },
   "file_extension": ".py",
   "mimetype": "text/x-python",
   "name": "python",
   "nbconvert_exporter": "python",
   "pygments_lexer": "ipython3",
   "version": "3.6.2"
  }
 },
 "nbformat": 4,
 "nbformat_minor": 2
}
